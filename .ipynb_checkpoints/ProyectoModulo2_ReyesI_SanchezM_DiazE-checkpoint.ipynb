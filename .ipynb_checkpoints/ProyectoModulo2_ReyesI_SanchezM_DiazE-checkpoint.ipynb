{
 "cells": [
  {
   "cell_type": "markdown",
   "metadata": {},
   "source": [
    "# Proyecto Módulo 2 \n",
    "# Modelado de circuitos RLC\n",
    "## Simulación Matemática\n",
    "<img style=\"float: right; margin: 0px 0px 15px 15px;\" src=\"https://userscontent2.emaze.com/images/0322370a-5f83-4cae-a9cb-836d69cd5baa/db97b4b8-c932-43e3-b644-ae210bd46318.png\" width=\"450px\" height=\"150px\" />\n",
    "Integrantes:\n",
    "\n",
    "<li>- Irene Reyes </li>\n",
    "<li>- Ernesto Díaz </li>\n",
    "<li>- Manuel Sánchez </li>\n",
    "\n",
    "Profesor:\n",
    " Lázaro Alonso\n",
    " "
   ]
  },
  {
   "cell_type": "markdown",
   "metadata": {},
   "source": [
    " https://www.powtoon.com/online-presentation/dE7PjYqCYDB/?mode=movie"
   ]
  },
  {
   "cell_type": "markdown",
   "metadata": {},
   "source": [
    "<b>Problema </b> Calcule la corriente en el circuito electrico LRC"
   ]
  },
  {
   "cell_type": "markdown",
   "metadata": {},
   "source": [
    "<table>\n",
    "  <tr>\n",
    "    <th>DATOS</th>\n",
    "   \n",
    "  </tr>\n",
    "  <tr>\n",
    "    <td>4.7X10^(-5)[H]</td>\n",
    "   \n",
    "  </tr>\n",
    "  <tr>\n",
    "    <td>R = 10Ω</td>\n",
    "  \n",
    "  </tr>\n",
    "   <tr>\n",
    "    <td>C = .33[F]</td>\n",
    "  \n",
    "  </tr>\n",
    "     <tr>\n",
    "    <td>e(t) = 0</td>\n",
    "  \n",
    "  </tr>\n",
    "</table> \n",
    "\n",
    "Considere que la carga inicial es de <b> q(0) = 1[c]</b> y corriente inicial <b>i(0) = 0[A] </b>"
   ]
  },
  {
   "cell_type": "markdown",
   "metadata": {},
   "source": [
    "#### Ecuaciones para el sistema a resover:"
   ]
  },
  {
   "cell_type": "markdown",
   "metadata": {},
   "source": [
    "- $$\\frac{dq}{dt}  = i $$"
   ]
  },
  {
   "cell_type": "markdown",
   "metadata": {},
   "source": [
    "$$ L  \\frac{d^2 q}{dt^2} + R  \\frac{dq}{dt} +  \\frac{1}{c} q =e(t) $$"
   ]
  },
  {
   "cell_type": "markdown",
   "metadata": {},
   "source": [
    "- $$ L  \\frac{d^2 q}{dt^2} + R  \\frac{dq}{dt} +  \\frac{1}{c} q =0 $$"
   ]
  },
  {
   "cell_type": "markdown",
   "metadata": {},
   "source": [
    "Aplicando el cambio de variable y sustituyendo los datos se despeja la ED del circuito de la siguiente forma: "
   ]
  },
  {
   "cell_type": "markdown",
   "metadata": {},
   "source": [
    "$$\\frac{di}{dt} =  -  \\frac{10}{4.7x10^-5} i -  \\frac{1}{(4.7x10^-5 )( 0.33)} q $$"
   ]
  },
  {
   "cell_type": "code",
   "execution_count": 2,
   "metadata": {
    "collapsed": true
   },
   "outputs": [],
   "source": [
    "import matplotlib.pyplot as plt\n",
    "import numpy as np\n",
    "%matplotlib inline\n",
    "from scipy.integrate import odeint"
   ]
  },
  {
   "cell_type": "code",
   "execution_count": 3,
   "metadata": {
    "collapsed": true
   },
   "outputs": [],
   "source": [
    "def circuito(i,t,cinv,L,R):\n",
    "    q = i[0]\n",
    "    i = i[1]\n",
    "    return [i, - (10/(.000047))*i - q/((.000047)*(.33)) ]\n",
    "    "
   ]
  },
  {
   "cell_type": "markdown",
   "metadata": {
    "collapsed": true
   },
   "source": [
    "### Condiciones iniciales"
   ]
  },
  {
   "cell_type": "code",
   "execution_count": 4,
   "metadata": {
    "collapsed": true
   },
   "outputs": [],
   "source": [
    "i0 = [1,0]\n",
    "cinv = 3.03\n",
    "L = .000047\n",
    "R = 10"
   ]
  },
  {
   "cell_type": "code",
   "execution_count": 5,
   "metadata": {
    "collapsed": true
   },
   "outputs": [],
   "source": [
    "tiempo = np.linspace(0,500,700)"
   ]
  },
  {
   "cell_type": "code",
   "execution_count": 6,
   "metadata": {
    "collapsed": true
   },
   "outputs": [],
   "source": [
    "solucion = odeint(circuito, i0, \n",
    "                  tiempo, args=(cinv,L,R))"
   ]
  },
  {
   "cell_type": "code",
   "execution_count": 7,
   "metadata": {
    "collapsed": false
   },
   "outputs": [
    {
     "data": {
      "text/plain": [
       "(700, 2)"
      ]
     },
     "execution_count": 7,
     "metadata": {},
     "output_type": "execute_result"
    }
   ],
   "source": [
    "solucion.shape"
   ]
  },
  {
   "cell_type": "code",
   "execution_count": 8,
   "metadata": {
    "collapsed": true
   },
   "outputs": [],
   "source": [
    "carga = solucion [:,0]\n",
    "corriente = solucion [:,1]"
   ]
  },
  {
   "cell_type": "markdown",
   "metadata": {
    "collapsed": true
   },
   "source": [
    "## Representacion sin una FEM externa"
   ]
  },
  {
   "cell_type": "code",
   "execution_count": 9,
   "metadata": {
    "collapsed": false
   },
   "outputs": [
    {
     "data": {
      "image/png": "[encoded data removed]",
      "text/plain": [
       "<matplotlib.figure.Figure at 0x195e5687c18>"
      ]
     },
     "metadata": {},
     "output_type": "display_data"
    }
   ],
   "source": [
    "plt.plot(tiempo, carga, c = \"r\" , lw = 1 , label = \"carga\")\n",
    "plt.plot(tiempo, corriente, c = \"b\" , lw = 1 , label = \"corriente\")\n",
    "plt.xlim(xmin = -10 , xmax = 50)\n",
    "plt.xlabel(\"tiempo\")\n",
    "plt.ylabel(\"carga-corriente\")\n",
    "plt.legend()\n",
    "plt.show()"
   ]
  },
  {
   "cell_type": "code",
   "execution_count": 37,
   "metadata": {
    "collapsed": true
   },
   "outputs": [],
   "source": [
    "import matplotlib as mpl\n",
    "label_size = 16\n",
    "mpl.rcParams['xtick.labelsize'] = label_size \n",
    "mpl.rcParams['ytick.labelsize'] = label_size"
   ]
  },
  {
   "cell_type": "code",
   "execution_count": 38,
   "metadata": {
    "collapsed": true
   },
   "outputs": [],
   "source": [
    "t1 = np.linspace(0,50,500)"
   ]
  },
  {
   "cell_type": "code",
   "execution_count": 39,
   "metadata": {
    "collapsed": true
   },
   "outputs": [],
   "source": [
    "q = .9999 * np.exp(-.3030 * t1) - .00000085996 * np.exp(-212765.65 *t1) + .000090325 * np.cos(20*t1) + .0059987 * np.sin(20*t1)"
   ]
  },
  {
   "cell_type": "code",
   "execution_count": 47,
   "metadata": {
    "collapsed": false
   },
   "outputs": [
    {
     "data": {
      "image/png": "[encoded data removed]",
      "text/plain": [
       "<matplotlib.figure.Figure at 0x195e73eae10>"
      ]
     },
     "metadata": {},
     "output_type": "display_data"
    }
   ],
   "source": [
    "plt.scatter(t1,q,s =10, lw=0)\n",
    "plt.title(\"Descarga del circuito\")\n",
    "plt.xlabel(\"$tiempo$\")\n",
    "plt.ylabel(\"$carga$\");"
   ]
  },
  {
   "cell_type": "code",
   "execution_count": 42,
   "metadata": {
    "collapsed": true
   },
   "outputs": [],
   "source": [
    "t = np.linspace(0,50,100)"
   ]
  },
  {
   "cell_type": "code",
   "execution_count": 43,
   "metadata": {
    "collapsed": true
   },
   "outputs": [],
   "source": [
    "i1 = -0.3030 * np.exp(-0.3030 * t) + 0.1830 * np.exp(-212765.65 * t) - 0.0018065 * np.sin(20 * t) + 0.12 * np.cos(20 *  t)"
   ]
  },
  {
   "cell_type": "code",
   "execution_count": 44,
   "metadata": {
    "collapsed": false
   },
   "outputs": [
    {
     "data": {
      "image/png": "[encoded data removed]",
      "text/plain": [
       "<matplotlib.figure.Figure at 0x195e73ac128>"
      ]
     },
     "metadata": {},
     "output_type": "display_data"
    }
   ],
   "source": [
    "plt.plot(i1)\n",
    "plt.ylim(ymin = -1 , ymax = .5)\n",
    "plt.hlines(0,0,105)\n",
    "plt.title(\"Corriente eléctrica en el circuito\")\n",
    "plt.xlabel(\"$tiempo$\")\n",
    "plt.ylabel(\"$corriente$\");"
   ]
  },
  {
   "cell_type": "code",
   "execution_count": null,
   "metadata": {
    "collapsed": true
   },
   "outputs": [],
   "source": []
  }
 ],
 "metadata": {
  "kernelspec": {
   "display_name": "Python 3",
   "language": "python",
   "name": "python3"
  },
  "language_info": {
   "codemirror_mode": {
    "name": "ipython",
    "version": 3
   },
   "file_extension": ".py",
   "mimetype": "text/x-python",
   "name": "python",
   "nbconvert_exporter": "python",
   "pygments_lexer": "ipython3",
   "version": "3.6.0"
  }
 },
 "nbformat": 4,
 "nbformat_minor": 2
}
